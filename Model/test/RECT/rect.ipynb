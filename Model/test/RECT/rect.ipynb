{
 "cells": [
  {
   "cell_type": "code",
   "execution_count": 142,
   "metadata": {},
   "outputs": [],
   "source": [
    "\n",
    "from igraph import Graph\n",
    "import igraph as ig\n",
    "import numpy as np\n",
    "import json\n",
    "import pandas as pd\n",
    "import torch\n",
    "from torch_geometric.data import Data\n",
    "import torch.nn.functional as F\n",
    "import torch_geometric.transforms as T\n",
    "import torch.nn as nn\n",
    "from torch_geometric.nn import GCNConv\n",
    "from torch_geometric.utils import train_test_split_edges\n",
    "from sklearn.metrics.cluster import (v_measure_score, homogeneity_score, completeness_score)\n",
    "from sklearn.metrics import precision_score, recall_score, roc_auc_score, accuracy_score, f1_score\n",
    "from sklearn.manifold import TSNE\n",
    "import matplotlib.pyplot as plt\n",
    "from torch.nn.parameter import Parameter\n",
    "import scipy.sparse as sp\n",
    "from torch.nn.modules.module import Module\n",
    "from sklearn.metrics import classification_report\n",
    "import torch.optim as optim\n",
    "from torch.autograd import Variable\n",
    "from torch_geometric.nn import RECT_L\n",
    "import time\n",
    "import math\n",
    "import neptune\n",
    "import os"
   ]
  },
  {
   "cell_type": "code",
   "execution_count": 133,
   "metadata": {},
   "outputs": [
    {
     "name": "stdout",
     "output_type": "stream",
     "text": [
      "Data(x=[7392, 26], edge_index=[2, 49502], y=[7392])\n"
     ]
    },
    {
     "name": "stderr",
     "output_type": "stream",
     "text": [
      "C:\\Users\\George\\AppData\\Local\\Programs\\Python\\Python310\\lib\\site-packages\\igraph\\io\\files.py:295: RuntimeWarning: Could not add vertex ids, there is already an 'id' vertex attribute. at src/io/graphml.c:492\n",
      "  return reader(f, *args, **kwds)\n"
     ]
    }
   ],
   "source": [
    "node_list_path = r'C:\\Users\\George\\Desktop\\ISEF-2023\\Datas\\Node list\\back up\\current_protein_Signal+meta+targets.json'\n",
    "with open(node_list_path, 'r') as file:\n",
    "    node_list = json.load(file)\n",
    "graph = r'C:\\Users\\George\\Desktop\\ISEF-2023\\Network construction\\PPI_homo_graph_features_loaded.graphml'\n",
    "# Create an igraph object\n",
    "PPI_graph = ig.Graph.Load(graph, format='graphml')\n",
    "\n",
    "feature_keys = [\n",
    "    \"Indegree\", \"Outdegree\", \"Closeness\", \"Betweenness\", \"Pagerank\", \"Cluster_coefficients\",\n",
    "    \"Nearest_Neighbor_Degree\", \"Similarity\", \"Subunit\", \"Transmembrane\",\n",
    "    \"Catalytic_activity\", \"Interaction\", \"Tissue_Specificity\", \"Disease\",\n",
    "    \"Sequence_conflict\", \"Modified_residue\", \"Function\", \"Binding_site\",\n",
    "    \"Natural_variant\", \"Alternative_products\", \"Subcellular_location\",\n",
    "    \"Active_site\", \"Disulfide_bond\", \"Mutagenesis\", \"PTM\", \"STP_involvement\"\n",
    "]\n",
    "\n",
    "features = torch.tensor([\n",
    "    PPI_graph.vs[key] for key in feature_keys\n",
    "], dtype=torch.float).t()\n",
    "\n",
    "edge_indices = torch.tensor(PPI_graph.get_edgelist(), dtype=torch.long).t()\n",
    "\n",
    "# Assuming you have a label attribute in your graph\n",
    "labels = torch.tensor(PPI_graph.vs[\"label\"], dtype=torch.float)\n",
    "\n",
    "# Create a PyTorch Geometric Data object\n",
    "data_ = Data(x=features, edge_index=edge_indices, y=labels)\n",
    "\n",
    "print(data_)"
   ]
  },
  {
   "cell_type": "code",
   "execution_count": 134,
   "metadata": {},
   "outputs": [
    {
     "name": "stderr",
     "output_type": "stream",
     "text": [
      "C:\\Users\\George\\AppData\\Local\\Programs\\Python\\Python310\\lib\\site-packages\\torch_geometric\\deprecation.py:22: UserWarning: 'train_test_split_edges' is deprecated, use 'transforms.RandomLinkSplit' instead\n",
      "  warnings.warn(out)\n"
     ]
    },
    {
     "name": "stdout",
     "output_type": "stream",
     "text": [
      "Data(x=[7392, 26], y=[7392], val_pos_edge_index=[2, 1237], test_pos_edge_index=[2, 2474], train_pos_edge_index=[2, 42062], train_neg_adj_mask=[7392, 7392], val_neg_edge_index=[2, 1237], test_neg_edge_index=[2, 2474])\n"
     ]
    }
   ],
   "source": [
    "data_ = train_test_split_edges(data_)\n",
    "print(data_)"
   ]
  },
  {
   "cell_type": "code",
   "execution_count": 143,
   "metadata": {},
   "outputs": [
    {
     "ename": "TypeError",
     "evalue": "RECT_L.get_semantic_labels() missing 1 required positional argument: 'mask'",
     "output_type": "error",
     "traceback": [
      "\u001b[1;31m---------------------------------------------------------------------------\u001b[0m",
      "\u001b[1;31mTypeError\u001b[0m                                 Traceback (most recent call last)",
      "Cell \u001b[1;32mIn [143], line 11\u001b[0m\n\u001b[0;32m      8\u001b[0m model \u001b[38;5;241m=\u001b[39m RECT_L(\u001b[38;5;241m200\u001b[39m, \u001b[38;5;241m200\u001b[39m, normalize\u001b[38;5;241m=\u001b[39m\u001b[38;5;28;01mFalse\u001b[39;00m, dropout\u001b[38;5;241m=\u001b[39m\u001b[38;5;241m0.0\u001b[39m)  \u001b[38;5;66;03m# Adjust the in/out channels as needed\u001b[39;00m\n\u001b[0;32m     10\u001b[0m \u001b[38;5;66;03m# Generate semantic labels for zero-shot learning\u001b[39;00m\n\u001b[1;32m---> 11\u001b[0m data_\u001b[38;5;241m.\u001b[39my \u001b[38;5;241m=\u001b[39m model\u001b[38;5;241m.\u001b[39mget_semantic_labels(data_\u001b[38;5;241m.\u001b[39mx, data_\u001b[38;5;241m.\u001b[39my)\n\u001b[0;32m     13\u001b[0m \u001b[38;5;66;03m# Device setup\u001b[39;00m\n\u001b[0;32m     14\u001b[0m device \u001b[38;5;241m=\u001b[39m torch\u001b[38;5;241m.\u001b[39mdevice(\u001b[38;5;124m'\u001b[39m\u001b[38;5;124mcuda\u001b[39m\u001b[38;5;124m'\u001b[39m \u001b[38;5;28;01mif\u001b[39;00m torch\u001b[38;5;241m.\u001b[39mcuda\u001b[38;5;241m.\u001b[39mis_available() \u001b[38;5;28;01melse\u001b[39;00m \u001b[38;5;124m'\u001b[39m\u001b[38;5;124mcpu\u001b[39m\u001b[38;5;124m'\u001b[39m)\n",
      "\u001b[1;31mTypeError\u001b[0m: RECT_L.get_semantic_labels() missing 1 required positional argument: 'mask'"
     ]
    }
   ],
   "source": [
    "\n",
    "# Define the unseen classes for zero-shot learning (modify as needed)\n",
    "unseen_classes = [0, 1, 2]  # Example classes\n",
    "\n",
    "# Remove training classes\n",
    "#zs_data = T.RemoveTrainingClasses(unseen_classes)(data_)\n",
    "\n",
    "# Initialize the RECT_L model\n",
    "model = RECT_L(200, 200, normalize=False, dropout=0.0)  # Adjust the in/out channels as needed\n",
    "\n",
    "# Generate semantic labels for zero-shot learning\n",
    "data_.y = model.get_semantic_labels(data_.x, data_.y)\n",
    "\n",
    "# Device setup\n",
    "device = torch.device('cuda' if torch.cuda.is_available() else 'cpu')\n",
    "model, zs_data = model.to(device), data_.to(device)\n",
    "\n",
    "# Loss function and optimizer\n",
    "criterion = torch.nn.MSELoss(reduction='sum')\n",
    "optimizer = torch.optim.Adam(model.parameters(), lr=0.001, weight_decay=5e-4)\n",
    "\n",
    "# Training loop\n",
    "model.train()\n",
    "for epoch in range(1, 201):\n",
    "    optimizer.zero_grad()\n",
    "    out = model(zs_data.x, zs_data.edge_index, zs_data.edge_attr)\n",
    "    loss = criterion(out[zs_data.train_mask], zs_data.y)\n",
    "    loss.backward()\n",
    "    optimizer.step()\n",
    "    print(f'Epoch {epoch:03d}, Loss: {loss:.4f}')\n",
    "\n",
    "# Evaluate the model\n",
    "model.eval()\n",
    "with torch.no_grad():\n",
    "    h = model.embed(zs_data.x, zs_data.edge_index, zs_data.edge_attr).cpu()"
   ]
  }
 ],
 "metadata": {
  "kernelspec": {
   "display_name": "Python 3 (ipykernel)",
   "language": "python",
   "name": "python3"
  },
  "language_info": {
   "codemirror_mode": {
    "name": "ipython",
    "version": 3
   },
   "file_extension": ".py",
   "mimetype": "text/x-python",
   "name": "python",
   "nbconvert_exporter": "python",
   "pygments_lexer": "ipython3",
   "version": "3.10.4"
  }
 },
 "nbformat": 4,
 "nbformat_minor": 2
}
