{
 "cells": [
  {
   "cell_type": "code",
   "execution_count": 2,
   "metadata": {},
   "outputs": [],
   "source": [
    "import networkx as nx\n",
    "from node2vec import Node2Vec\n",
    "from igraph import Graph\n",
    "import igraph as ig\n",
    "import numpy as np\n",
    "import json\n",
    "import pandas as pd\n",
    "import torch\n",
    "from torch_geometric.data import Data\n",
    "import torch.nn.functional as F\n",
    "from torch_geometric.nn import GraphSAGE\n",
    "from torch_geometric.data import DataLoader\n",
    "import torch_geometric.transforms as T\n",
    "from torch_geometric.nn import GCNConv\n",
    "from torch_geometric.utils import train_test_split_edges\n",
    "from torch_geometric.nn import GAE\n",
    "from torch_geometric.nn import VGAE\n",
    "import neptune\n",
    "import wandb\n",
    "import os"
   ]
  },
  {
   "cell_type": "code",
   "execution_count": 3,
   "metadata": {},
   "outputs": [
    {
     "name": "stdout",
     "output_type": "stream",
     "text": [
      "Data(x=[7392, 26], edge_index=[2, 49502], y=[7392])\n"
     ]
    },
    {
     "name": "stderr",
     "output_type": "stream",
     "text": [
      "C:\\Users\\George\\AppData\\Local\\Programs\\Python\\Python310\\lib\\site-packages\\igraph\\io\\files.py:295: RuntimeWarning: Could not add vertex ids, there is already an 'id' vertex attribute. at src/io/graphml.c:492\n",
      "  return reader(f, *args, **kwds)\n"
     ]
    }
   ],
   "source": [
    "node_list_path = r'C:\\Users\\George\\Desktop\\ISEF-2023\\Datas\\Node list\\back up\\current_protein_Signal+meta+targets.json'\n",
    "with open(node_list_path, 'r') as file:\n",
    "    node_list = json.load(file)\n",
    "graph = r'C:\\Users\\George\\Desktop\\ISEF-2023\\Network construction\\PPI_homo_graph_features_loaded.graphml'\n",
    "# Create an igraph object\n",
    "PPI_graph = ig.Graph.Load(graph, format='graphml')\n",
    "\n",
    "feature_keys = [\n",
    "    \"Indegree\", \"Outdegree\", \"Closeness\", \"Betweenness\", \"Pagerank\", \"Cluster_coefficients\",\n",
    "    \"Nearest_Neighbor_Degree\", \"Similarity\", \"Subunit\", \"Transmembrane\",\n",
    "    \"Catalytic_activity\", \"Interaction\", \"Tissue_Specificity\", \"Disease\",\n",
    "    \"Sequence_conflict\", \"Modified_residue\", \"Function\", \"Binding_site\",\n",
    "    \"Natural_variant\", \"Alternative_products\", \"Subcellular_location\",\n",
    "    \"Active_site\", \"Disulfide_bond\", \"Mutagenesis\", \"PTM\", \"STP_involvement\"\n",
    "]\n",
    "\n",
    "features = torch.tensor([\n",
    "    PPI_graph.vs[key] for key in feature_keys\n",
    "], dtype=torch.float).t()\n",
    "\n",
    "edge_indices = torch.tensor(PPI_graph.get_edgelist(), dtype=torch.long).t()\n",
    "\n",
    "# Assuming you have a label attribute in your graph\n",
    "labels = torch.tensor(PPI_graph.vs[\"label\"], dtype=torch.float)\n",
    "\n",
    "# Create a PyTorch Geometric Data object\n",
    "data = Data(x=features, edge_index=edge_indices, y=labels)\n",
    "\n",
    "print(data)"
   ]
  },
  {
   "cell_type": "code",
   "execution_count": 4,
   "metadata": {},
   "outputs": [
    {
     "name": "stderr",
     "output_type": "stream",
     "text": [
      "C:\\Users\\George\\AppData\\Local\\Programs\\Python\\Python310\\lib\\site-packages\\torch_geometric\\deprecation.py:22: UserWarning: 'train_test_split_edges' is deprecated, use 'transforms.RandomLinkSplit' instead\n",
      "  warnings.warn(out)\n"
     ]
    },
    {
     "name": "stdout",
     "output_type": "stream",
     "text": [
      "Data(x=[7392, 26], y=[7392], val_pos_edge_index=[2, 1237], test_pos_edge_index=[2, 2474], train_pos_edge_index=[2, 42062], train_neg_adj_mask=[7392, 7392], val_neg_edge_index=[2, 1237], test_neg_edge_index=[2, 2474])\n"
     ]
    }
   ],
   "source": [
    "\n",
    "data = train_test_split_edges(data)\n",
    "print(data)"
   ]
  },
  {
   "cell_type": "code",
   "execution_count": 5,
   "metadata": {},
   "outputs": [],
   "source": [
    "class VariationalGCNEncoder(torch.nn.Module):\n",
    "    def __init__(self, in_channels, layer_channels):\n",
    "        super(VariationalGCNEncoder, self).__init__()\n",
    "\n",
    "        self.convs = torch.nn.ModuleList()\n",
    "\n",
    "        # Add the input layer\n",
    "        self.convs.append(GCNConv(in_channels, layer_channels[0], cached=True))\n",
    "        # Add hidden layers\n",
    "        for i in range(1, len(layer_channels)-1):\n",
    "            self.convs.append(GCNConv(layer_channels[i-1], layer_channels[i], cached=True))\n",
    "        \n",
    "        self.conv_mu = GCNConv(layer_channels[-2], layer_channels[-1], cached=True)\n",
    "        self.conv_logstd = GCNConv(layer_channels[-2], layer_channels[-1], cached=True)\n",
    "\n",
    "    def forward(self, x, edge_index):\n",
    "        for conv in self.convs[:-1]:\n",
    "            x = conv(x, edge_index).relu()\n",
    "        return self.conv_mu(x, edge_index), self.conv_logstd(x, edge_index)\n",
    "    "
   ]
  },
  {
   "cell_type": "code",
   "execution_count": 13,
   "metadata": {},
   "outputs": [
    {
     "name": "stdout",
     "output_type": "stream",
     "text": [
      "https://app.neptune.ai/georgewang2008/VGAE/e/ABC-11\n"
     ]
    }
   ],
   "source": [
    "run = neptune.init_run(\n",
    "    project=\"georgewang2008/VGAE\",\n",
    "    api_token=\"eyJhcGlfYWRkcmVzcyI6Imh0dHBzOi8vYXBwLm5lcHR1bmUuYWkiLCJhcGlfdXJsIjoiaHR0cHM6Ly9hcHAubmVwdHVuZS5haSIsImFwaV9rZXkiOiJkNjU3MjQyMy0yZWUzLTQzNGYtOTI3MS0zNDNlYjJhOWQ3ZTgifQ==\",\n",
    ")\n",
    "\n",
    "num_features = 26\n",
    "epochs = 240\n",
    "layer_channels = [32, 64, 64, 128]  # List of channel sizes for each layer\n",
    "lr = 0.01\n",
    "\n",
    "param = {\n",
    "    'num_features':num_features,\n",
    "    'epochs':epochs,\n",
    "    'layer_channels':str(layer_channels),  # List of channel sizes for each layer\n",
    "    'lr':lr\n",
    "}\n",
    "run[\"parameters\"] = param\n",
    "\n",
    "# model\n",
    "\n",
    "model = VGAE(VariationalGCNEncoder(in_channels=num_features, layer_channels=layer_channels))\n",
    "\n",
    "# move to GPU (if available)\n",
    "device = torch.device('cuda' if torch.cuda.is_available() else 'cpu')\n",
    "model = model.to(device)\n",
    "x = data.x.to(device)\n",
    "train_pos_edge_index = data.train_pos_edge_index.to(device)\n",
    "\n",
    "# inizialize the optimizer\n",
    "optimizer = torch.optim.Adam(model.parameters(), lr)"
   ]
  },
  {
   "cell_type": "code",
   "execution_count": 14,
   "metadata": {},
   "outputs": [],
   "source": [
    "def train():\n",
    "    model.train()\n",
    "    optimizer.zero_grad()\n",
    "    z = model.encode(x, train_pos_edge_index)\n",
    "    loss = model.recon_loss(z, train_pos_edge_index)\n",
    "    \n",
    "    loss = loss + (1 / data.num_nodes) * model.kl_loss()  # new line\n",
    "    loss.backward()\n",
    "    optimizer.step()\n",
    "    return float(loss)\n",
    "\n",
    "\n",
    "def test(pos_edge_index, neg_edge_index):\n",
    "    model.eval()\n",
    "    with torch.no_grad():\n",
    "        z = model.encode(x, train_pos_edge_index)\n",
    "    return model.test(z, pos_edge_index, neg_edge_index)"
   ]
  },
  {
   "cell_type": "code",
   "execution_count": 15,
   "metadata": {},
   "outputs": [
    {
     "ename": "RuntimeError",
     "evalue": "mat1 and mat2 shapes cannot be multiplied (7392x32 and 64x128)",
     "output_type": "error",
     "traceback": [
      "\u001b[1;31m---------------------------------------------------------------------------\u001b[0m",
      "\u001b[1;31mRuntimeError\u001b[0m                              Traceback (most recent call last)",
      "Cell \u001b[1;32mIn [15], line 2\u001b[0m\n\u001b[0;32m      1\u001b[0m \u001b[38;5;28;01mfor\u001b[39;00m epoch \u001b[38;5;129;01min\u001b[39;00m \u001b[38;5;28mrange\u001b[39m(\u001b[38;5;241m1\u001b[39m, epochs \u001b[38;5;241m+\u001b[39m \u001b[38;5;241m1\u001b[39m):\n\u001b[1;32m----> 2\u001b[0m     loss \u001b[38;5;241m=\u001b[39m train()\n\u001b[0;32m      3\u001b[0m     auc, ap \u001b[38;5;241m=\u001b[39m test(data\u001b[38;5;241m.\u001b[39mtest_pos_edge_index, data\u001b[38;5;241m.\u001b[39mtest_neg_edge_index)\n\u001b[0;32m      4\u001b[0m     \u001b[38;5;28mprint\u001b[39m(\u001b[38;5;124m'\u001b[39m\u001b[38;5;124mEpoch: \u001b[39m\u001b[38;5;132;01m{:03d}\u001b[39;00m\u001b[38;5;124m, AUC: \u001b[39m\u001b[38;5;132;01m{:.4f}\u001b[39;00m\u001b[38;5;124m, AP: \u001b[39m\u001b[38;5;132;01m{:.4f}\u001b[39;00m\u001b[38;5;124m'\u001b[39m\u001b[38;5;241m.\u001b[39mformat(epoch, auc, ap))\n",
      "Cell \u001b[1;32mIn [14], line 4\u001b[0m, in \u001b[0;36mtrain\u001b[1;34m()\u001b[0m\n\u001b[0;32m      2\u001b[0m model\u001b[38;5;241m.\u001b[39mtrain()\n\u001b[0;32m      3\u001b[0m optimizer\u001b[38;5;241m.\u001b[39mzero_grad()\n\u001b[1;32m----> 4\u001b[0m z \u001b[38;5;241m=\u001b[39m \u001b[43mmodel\u001b[49m\u001b[38;5;241;43m.\u001b[39;49m\u001b[43mencode\u001b[49m\u001b[43m(\u001b[49m\u001b[43mx\u001b[49m\u001b[43m,\u001b[49m\u001b[43m \u001b[49m\u001b[43mtrain_pos_edge_index\u001b[49m\u001b[43m)\u001b[49m\n\u001b[0;32m      5\u001b[0m loss \u001b[38;5;241m=\u001b[39m model\u001b[38;5;241m.\u001b[39mrecon_loss(z, train_pos_edge_index)\n\u001b[0;32m      7\u001b[0m loss \u001b[38;5;241m=\u001b[39m loss \u001b[38;5;241m+\u001b[39m (\u001b[38;5;241m1\u001b[39m \u001b[38;5;241m/\u001b[39m data\u001b[38;5;241m.\u001b[39mnum_nodes) \u001b[38;5;241m*\u001b[39m model\u001b[38;5;241m.\u001b[39mkl_loss()  \u001b[38;5;66;03m# new line\u001b[39;00m\n",
      "File \u001b[1;32m~\\AppData\\Local\\Programs\\Python\\Python310\\lib\\site-packages\\torch_geometric\\nn\\models\\autoencoder.py:163\u001b[0m, in \u001b[0;36mVGAE.encode\u001b[1;34m(self, *args, **kwargs)\u001b[0m\n\u001b[0;32m    161\u001b[0m \u001b[38;5;28;01mdef\u001b[39;00m \u001b[38;5;21mencode\u001b[39m(\u001b[38;5;28mself\u001b[39m, \u001b[38;5;241m*\u001b[39margs, \u001b[38;5;241m*\u001b[39m\u001b[38;5;241m*\u001b[39mkwargs) \u001b[38;5;241m-\u001b[39m\u001b[38;5;241m>\u001b[39m Tensor:\n\u001b[0;32m    162\u001b[0m     \u001b[38;5;124;03m\"\"\"\"\"\"\u001b[39;00m\n\u001b[1;32m--> 163\u001b[0m     \u001b[38;5;28mself\u001b[39m\u001b[38;5;241m.\u001b[39m__mu__, \u001b[38;5;28mself\u001b[39m\u001b[38;5;241m.\u001b[39m__logstd__ \u001b[38;5;241m=\u001b[39m \u001b[38;5;28mself\u001b[39m\u001b[38;5;241m.\u001b[39mencoder(\u001b[38;5;241m*\u001b[39margs, \u001b[38;5;241m*\u001b[39m\u001b[38;5;241m*\u001b[39mkwargs)\n\u001b[0;32m    164\u001b[0m     \u001b[38;5;28mself\u001b[39m\u001b[38;5;241m.\u001b[39m__logstd__ \u001b[38;5;241m=\u001b[39m \u001b[38;5;28mself\u001b[39m\u001b[38;5;241m.\u001b[39m__logstd__\u001b[38;5;241m.\u001b[39mclamp(\u001b[38;5;28mmax\u001b[39m\u001b[38;5;241m=\u001b[39mMAX_LOGSTD)\n\u001b[0;32m    165\u001b[0m     z \u001b[38;5;241m=\u001b[39m \u001b[38;5;28mself\u001b[39m\u001b[38;5;241m.\u001b[39mreparametrize(\u001b[38;5;28mself\u001b[39m\u001b[38;5;241m.\u001b[39m__mu__, \u001b[38;5;28mself\u001b[39m\u001b[38;5;241m.\u001b[39m__logstd__)\n",
      "File \u001b[1;32m~\\AppData\\Local\\Programs\\Python\\Python310\\lib\\site-packages\\torch\\nn\\modules\\module.py:1518\u001b[0m, in \u001b[0;36mModule._wrapped_call_impl\u001b[1;34m(self, *args, **kwargs)\u001b[0m\n\u001b[0;32m   1516\u001b[0m     \u001b[38;5;28;01mreturn\u001b[39;00m \u001b[38;5;28mself\u001b[39m\u001b[38;5;241m.\u001b[39m_compiled_call_impl(\u001b[38;5;241m*\u001b[39margs, \u001b[38;5;241m*\u001b[39m\u001b[38;5;241m*\u001b[39mkwargs)  \u001b[38;5;66;03m# type: ignore[misc]\u001b[39;00m\n\u001b[0;32m   1517\u001b[0m \u001b[38;5;28;01melse\u001b[39;00m:\n\u001b[1;32m-> 1518\u001b[0m     \u001b[38;5;28;01mreturn\u001b[39;00m \u001b[38;5;28mself\u001b[39m\u001b[38;5;241m.\u001b[39m_call_impl(\u001b[38;5;241m*\u001b[39margs, \u001b[38;5;241m*\u001b[39m\u001b[38;5;241m*\u001b[39mkwargs)\n",
      "File \u001b[1;32m~\\AppData\\Local\\Programs\\Python\\Python310\\lib\\site-packages\\torch\\nn\\modules\\module.py:1527\u001b[0m, in \u001b[0;36mModule._call_impl\u001b[1;34m(self, *args, **kwargs)\u001b[0m\n\u001b[0;32m   1522\u001b[0m \u001b[38;5;66;03m# If we don't have any hooks, we want to skip the rest of the logic in\u001b[39;00m\n\u001b[0;32m   1523\u001b[0m \u001b[38;5;66;03m# this function, and just call forward.\u001b[39;00m\n\u001b[0;32m   1524\u001b[0m \u001b[38;5;28;01mif\u001b[39;00m \u001b[38;5;129;01mnot\u001b[39;00m (\u001b[38;5;28mself\u001b[39m\u001b[38;5;241m.\u001b[39m_backward_hooks \u001b[38;5;129;01mor\u001b[39;00m \u001b[38;5;28mself\u001b[39m\u001b[38;5;241m.\u001b[39m_backward_pre_hooks \u001b[38;5;129;01mor\u001b[39;00m \u001b[38;5;28mself\u001b[39m\u001b[38;5;241m.\u001b[39m_forward_hooks \u001b[38;5;129;01mor\u001b[39;00m \u001b[38;5;28mself\u001b[39m\u001b[38;5;241m.\u001b[39m_forward_pre_hooks\n\u001b[0;32m   1525\u001b[0m         \u001b[38;5;129;01mor\u001b[39;00m _global_backward_pre_hooks \u001b[38;5;129;01mor\u001b[39;00m _global_backward_hooks\n\u001b[0;32m   1526\u001b[0m         \u001b[38;5;129;01mor\u001b[39;00m _global_forward_hooks \u001b[38;5;129;01mor\u001b[39;00m _global_forward_pre_hooks):\n\u001b[1;32m-> 1527\u001b[0m     \u001b[38;5;28;01mreturn\u001b[39;00m forward_call(\u001b[38;5;241m*\u001b[39margs, \u001b[38;5;241m*\u001b[39m\u001b[38;5;241m*\u001b[39mkwargs)\n\u001b[0;32m   1529\u001b[0m \u001b[38;5;28;01mtry\u001b[39;00m:\n\u001b[0;32m   1530\u001b[0m     result \u001b[38;5;241m=\u001b[39m \u001b[38;5;28;01mNone\u001b[39;00m\n",
      "Cell \u001b[1;32mIn [5], line 19\u001b[0m, in \u001b[0;36mVariationalGCNEncoder.forward\u001b[1;34m(self, x, edge_index)\u001b[0m\n\u001b[0;32m     17\u001b[0m \u001b[38;5;28;01mfor\u001b[39;00m conv \u001b[38;5;129;01min\u001b[39;00m \u001b[38;5;28mself\u001b[39m\u001b[38;5;241m.\u001b[39mconvs[:\u001b[38;5;241m-\u001b[39m\u001b[38;5;241m1\u001b[39m]:\n\u001b[0;32m     18\u001b[0m     x \u001b[38;5;241m=\u001b[39m conv(x, edge_index)\u001b[38;5;241m.\u001b[39mrelu()\n\u001b[1;32m---> 19\u001b[0m \u001b[38;5;28;01mreturn\u001b[39;00m \u001b[38;5;28;43mself\u001b[39;49m\u001b[38;5;241;43m.\u001b[39;49m\u001b[43mconv_mu\u001b[49m\u001b[43m(\u001b[49m\u001b[43mx\u001b[49m\u001b[43m,\u001b[49m\u001b[43m \u001b[49m\u001b[43medge_index\u001b[49m\u001b[43m)\u001b[49m, \u001b[38;5;28mself\u001b[39m\u001b[38;5;241m.\u001b[39mconv_logstd(x, edge_index)\n",
      "File \u001b[1;32m~\\AppData\\Local\\Programs\\Python\\Python310\\lib\\site-packages\\torch\\nn\\modules\\module.py:1518\u001b[0m, in \u001b[0;36mModule._wrapped_call_impl\u001b[1;34m(self, *args, **kwargs)\u001b[0m\n\u001b[0;32m   1516\u001b[0m     \u001b[38;5;28;01mreturn\u001b[39;00m \u001b[38;5;28mself\u001b[39m\u001b[38;5;241m.\u001b[39m_compiled_call_impl(\u001b[38;5;241m*\u001b[39margs, \u001b[38;5;241m*\u001b[39m\u001b[38;5;241m*\u001b[39mkwargs)  \u001b[38;5;66;03m# type: ignore[misc]\u001b[39;00m\n\u001b[0;32m   1517\u001b[0m \u001b[38;5;28;01melse\u001b[39;00m:\n\u001b[1;32m-> 1518\u001b[0m     \u001b[38;5;28;01mreturn\u001b[39;00m \u001b[38;5;28mself\u001b[39m\u001b[38;5;241m.\u001b[39m_call_impl(\u001b[38;5;241m*\u001b[39margs, \u001b[38;5;241m*\u001b[39m\u001b[38;5;241m*\u001b[39mkwargs)\n",
      "File \u001b[1;32m~\\AppData\\Local\\Programs\\Python\\Python310\\lib\\site-packages\\torch\\nn\\modules\\module.py:1527\u001b[0m, in \u001b[0;36mModule._call_impl\u001b[1;34m(self, *args, **kwargs)\u001b[0m\n\u001b[0;32m   1522\u001b[0m \u001b[38;5;66;03m# If we don't have any hooks, we want to skip the rest of the logic in\u001b[39;00m\n\u001b[0;32m   1523\u001b[0m \u001b[38;5;66;03m# this function, and just call forward.\u001b[39;00m\n\u001b[0;32m   1524\u001b[0m \u001b[38;5;28;01mif\u001b[39;00m \u001b[38;5;129;01mnot\u001b[39;00m (\u001b[38;5;28mself\u001b[39m\u001b[38;5;241m.\u001b[39m_backward_hooks \u001b[38;5;129;01mor\u001b[39;00m \u001b[38;5;28mself\u001b[39m\u001b[38;5;241m.\u001b[39m_backward_pre_hooks \u001b[38;5;129;01mor\u001b[39;00m \u001b[38;5;28mself\u001b[39m\u001b[38;5;241m.\u001b[39m_forward_hooks \u001b[38;5;129;01mor\u001b[39;00m \u001b[38;5;28mself\u001b[39m\u001b[38;5;241m.\u001b[39m_forward_pre_hooks\n\u001b[0;32m   1525\u001b[0m         \u001b[38;5;129;01mor\u001b[39;00m _global_backward_pre_hooks \u001b[38;5;129;01mor\u001b[39;00m _global_backward_hooks\n\u001b[0;32m   1526\u001b[0m         \u001b[38;5;129;01mor\u001b[39;00m _global_forward_hooks \u001b[38;5;129;01mor\u001b[39;00m _global_forward_pre_hooks):\n\u001b[1;32m-> 1527\u001b[0m     \u001b[38;5;28;01mreturn\u001b[39;00m forward_call(\u001b[38;5;241m*\u001b[39margs, \u001b[38;5;241m*\u001b[39m\u001b[38;5;241m*\u001b[39mkwargs)\n\u001b[0;32m   1529\u001b[0m \u001b[38;5;28;01mtry\u001b[39;00m:\n\u001b[0;32m   1530\u001b[0m     result \u001b[38;5;241m=\u001b[39m \u001b[38;5;28;01mNone\u001b[39;00m\n",
      "File \u001b[1;32m~\\AppData\\Local\\Programs\\Python\\Python310\\lib\\site-packages\\torch_geometric\\nn\\conv\\gcn_conv.py:241\u001b[0m, in \u001b[0;36mGCNConv.forward\u001b[1;34m(self, x, edge_index, edge_weight)\u001b[0m\n\u001b[0;32m    238\u001b[0m         \u001b[38;5;28;01melse\u001b[39;00m:\n\u001b[0;32m    239\u001b[0m             edge_index \u001b[38;5;241m=\u001b[39m cache\n\u001b[1;32m--> 241\u001b[0m x \u001b[38;5;241m=\u001b[39m \u001b[38;5;28;43mself\u001b[39;49m\u001b[38;5;241;43m.\u001b[39;49m\u001b[43mlin\u001b[49m\u001b[43m(\u001b[49m\u001b[43mx\u001b[49m\u001b[43m)\u001b[49m\n\u001b[0;32m    243\u001b[0m \u001b[38;5;66;03m# propagate_type: (x: Tensor, edge_weight: OptTensor)\u001b[39;00m\n\u001b[0;32m    244\u001b[0m out \u001b[38;5;241m=\u001b[39m \u001b[38;5;28mself\u001b[39m\u001b[38;5;241m.\u001b[39mpropagate(edge_index, x\u001b[38;5;241m=\u001b[39mx, edge_weight\u001b[38;5;241m=\u001b[39medge_weight,\n\u001b[0;32m    245\u001b[0m                      size\u001b[38;5;241m=\u001b[39m\u001b[38;5;28;01mNone\u001b[39;00m)\n",
      "File \u001b[1;32m~\\AppData\\Local\\Programs\\Python\\Python310\\lib\\site-packages\\torch\\nn\\modules\\module.py:1518\u001b[0m, in \u001b[0;36mModule._wrapped_call_impl\u001b[1;34m(self, *args, **kwargs)\u001b[0m\n\u001b[0;32m   1516\u001b[0m     \u001b[38;5;28;01mreturn\u001b[39;00m \u001b[38;5;28mself\u001b[39m\u001b[38;5;241m.\u001b[39m_compiled_call_impl(\u001b[38;5;241m*\u001b[39margs, \u001b[38;5;241m*\u001b[39m\u001b[38;5;241m*\u001b[39mkwargs)  \u001b[38;5;66;03m# type: ignore[misc]\u001b[39;00m\n\u001b[0;32m   1517\u001b[0m \u001b[38;5;28;01melse\u001b[39;00m:\n\u001b[1;32m-> 1518\u001b[0m     \u001b[38;5;28;01mreturn\u001b[39;00m \u001b[38;5;28mself\u001b[39m\u001b[38;5;241m.\u001b[39m_call_impl(\u001b[38;5;241m*\u001b[39margs, \u001b[38;5;241m*\u001b[39m\u001b[38;5;241m*\u001b[39mkwargs)\n",
      "File \u001b[1;32m~\\AppData\\Local\\Programs\\Python\\Python310\\lib\\site-packages\\torch\\nn\\modules\\module.py:1527\u001b[0m, in \u001b[0;36mModule._call_impl\u001b[1;34m(self, *args, **kwargs)\u001b[0m\n\u001b[0;32m   1522\u001b[0m \u001b[38;5;66;03m# If we don't have any hooks, we want to skip the rest of the logic in\u001b[39;00m\n\u001b[0;32m   1523\u001b[0m \u001b[38;5;66;03m# this function, and just call forward.\u001b[39;00m\n\u001b[0;32m   1524\u001b[0m \u001b[38;5;28;01mif\u001b[39;00m \u001b[38;5;129;01mnot\u001b[39;00m (\u001b[38;5;28mself\u001b[39m\u001b[38;5;241m.\u001b[39m_backward_hooks \u001b[38;5;129;01mor\u001b[39;00m \u001b[38;5;28mself\u001b[39m\u001b[38;5;241m.\u001b[39m_backward_pre_hooks \u001b[38;5;129;01mor\u001b[39;00m \u001b[38;5;28mself\u001b[39m\u001b[38;5;241m.\u001b[39m_forward_hooks \u001b[38;5;129;01mor\u001b[39;00m \u001b[38;5;28mself\u001b[39m\u001b[38;5;241m.\u001b[39m_forward_pre_hooks\n\u001b[0;32m   1525\u001b[0m         \u001b[38;5;129;01mor\u001b[39;00m _global_backward_pre_hooks \u001b[38;5;129;01mor\u001b[39;00m _global_backward_hooks\n\u001b[0;32m   1526\u001b[0m         \u001b[38;5;129;01mor\u001b[39;00m _global_forward_hooks \u001b[38;5;129;01mor\u001b[39;00m _global_forward_pre_hooks):\n\u001b[1;32m-> 1527\u001b[0m     \u001b[38;5;28;01mreturn\u001b[39;00m forward_call(\u001b[38;5;241m*\u001b[39margs, \u001b[38;5;241m*\u001b[39m\u001b[38;5;241m*\u001b[39mkwargs)\n\u001b[0;32m   1529\u001b[0m \u001b[38;5;28;01mtry\u001b[39;00m:\n\u001b[0;32m   1530\u001b[0m     result \u001b[38;5;241m=\u001b[39m \u001b[38;5;28;01mNone\u001b[39;00m\n",
      "File \u001b[1;32m~\\AppData\\Local\\Programs\\Python\\Python310\\lib\\site-packages\\torch_geometric\\nn\\dense\\linear.py:130\u001b[0m, in \u001b[0;36mLinear.forward\u001b[1;34m(self, x)\u001b[0m\n\u001b[0;32m    125\u001b[0m \u001b[38;5;28;01mdef\u001b[39;00m \u001b[38;5;21mforward\u001b[39m(\u001b[38;5;28mself\u001b[39m, x: Tensor) \u001b[38;5;241m-\u001b[39m\u001b[38;5;241m>\u001b[39m Tensor:\n\u001b[0;32m    126\u001b[0m     \u001b[38;5;124mr\u001b[39m\u001b[38;5;124;03m\"\"\"\u001b[39;00m\n\u001b[0;32m    127\u001b[0m \u001b[38;5;124;03m    Args:\u001b[39;00m\n\u001b[0;32m    128\u001b[0m \u001b[38;5;124;03m        x (torch.Tensor): The input features.\u001b[39;00m\n\u001b[0;32m    129\u001b[0m \u001b[38;5;124;03m    \"\"\"\u001b[39;00m\n\u001b[1;32m--> 130\u001b[0m     \u001b[38;5;28;01mreturn\u001b[39;00m \u001b[43mF\u001b[49m\u001b[38;5;241;43m.\u001b[39;49m\u001b[43mlinear\u001b[49m\u001b[43m(\u001b[49m\u001b[43mx\u001b[49m\u001b[43m,\u001b[49m\u001b[43m \u001b[49m\u001b[38;5;28;43mself\u001b[39;49m\u001b[38;5;241;43m.\u001b[39;49m\u001b[43mweight\u001b[49m\u001b[43m,\u001b[49m\u001b[43m \u001b[49m\u001b[38;5;28;43mself\u001b[39;49m\u001b[38;5;241;43m.\u001b[39;49m\u001b[43mbias\u001b[49m\u001b[43m)\u001b[49m\n",
      "\u001b[1;31mRuntimeError\u001b[0m: mat1 and mat2 shapes cannot be multiplied (7392x32 and 64x128)"
     ]
    }
   ],
   "source": [
    "for epoch in range(1, epochs + 1):\n",
    "    loss = train()\n",
    "    auc, ap = test(data.test_pos_edge_index, data.test_neg_edge_index)\n",
    "    print('Epoch: {:03d}, AUC: {:.4f}, AP: {:.4f}'.format(epoch, auc, ap))\n",
    "\n",
    "    run[\"train/loss\"].append(loss)\n",
    "    run[\"train/auc\"].append(auc)\n",
    "    run[\"train/ap\"].append(ap)\n",
    "    run[\"train/epoch\"].append(epoch)\n",
    "\n",
    "    #if auc > 91 and ap > 91.1:\n",
    "        #break"
   ]
  },
  {
   "cell_type": "code",
   "execution_count": 9,
   "metadata": {},
   "outputs": [
    {
     "data": {
      "text/plain": [
       "tensor([[-11.9406,  12.3173,  13.3241, -13.2107,  34.4085,  20.9689],\n",
       "        [ -0.7754,  -1.6070,   0.5959,   6.5201,  -3.2338,  -0.7822],\n",
       "        [ -0.4110,   2.4585,  -1.1412,  -4.9950,   4.5098,   7.6872],\n",
       "        ...,\n",
       "        [ -2.9609,  -3.6318,   2.5026,  18.0569,  -8.0509,  -1.6856],\n",
       "        [-22.2418,  22.3279,  26.5059, -21.1681,  63.0139,  33.4849],\n",
       "        [-14.5902,  14.5423,  17.1571, -14.2777,  41.6708,  23.1909]],\n",
       "       grad_fn=<AddBackward0>)"
      ]
     },
     "execution_count": 9,
     "metadata": {},
     "output_type": "execute_result"
    }
   ],
   "source": [
    "Z = model.encode(x, train_pos_edge_index)\n",
    "Z"
   ]
  },
  {
   "cell_type": "code",
   "execution_count": null,
   "metadata": {},
   "outputs": [
    {
     "name": "stderr",
     "output_type": "stream",
     "text": [
      "IOPub data rate exceeded.\n",
      "The notebook server will temporarily stop sending output\n",
      "to the client in order to avoid crashing it.\n",
      "To change this limit, set the config variable\n",
      "`--NotebookApp.iopub_data_rate_limit`.\n",
      "\n",
      "Current values:\n",
      "NotebookApp.iopub_data_rate_limit=1000000.0 (bytes/sec)\n",
      "NotebookApp.rate_limit_window=3.0 (secs)\n",
      "\n"
     ]
    },
    {
     "name": "stdout",
     "output_type": "stream",
     "text": [
      "CSV file saved at: C:\\Users\\George\\Desktop\\ISEF-2023\\Model\\test\\GAE_PPI\\embed_38.csv\n",
      "Unexpected error occurred in Neptune background thread: Killing Neptune ping thread. Your run's status will not be updated and the run will be shown as inactive.\n"
     ]
    },
    {
     "name": "stderr",
     "output_type": "stream",
     "text": [
      "Exception in thread NeptunePing:\n",
      "Traceback (most recent call last):\n",
      "  File \"C:\\Users\\George\\AppData\\Local\\Programs\\Python\\Python310\\lib\\site-packages\\neptune\\internal\\backends\\swagger_client_wrapper.py\", line 111, in __call__\n",
      "    return FinishedApiResponseFuture(future.response())  # wait synchronously\n",
      "  File \"C:\\Users\\George\\AppData\\Local\\Programs\\Python\\Python310\\lib\\site-packages\\bravado\\http_future.py\", line 200, in response\n",
      "    swagger_result = self._get_swagger_result(incoming_response)\n",
      "  File \"C:\\Users\\George\\AppData\\Local\\Programs\\Python\\Python310\\lib\\site-packages\\bravado\\http_future.py\", line 124, in wrapper\n",
      "    return func(self, *args, **kwargs)\n",
      "  File \"C:\\Users\\George\\AppData\\Local\\Programs\\Python\\Python310\\lib\\site-packages\\bravado\\http_future.py\", line 300, in _get_swagger_result\n",
      "    unmarshal_response(\n",
      "  File \"C:\\Users\\George\\AppData\\Local\\Programs\\Python\\Python310\\lib\\site-packages\\bravado\\http_future.py\", line 353, in unmarshal_response\n",
      "    raise_on_expected(incoming_response)\n",
      "  File \"C:\\Users\\George\\AppData\\Local\\Programs\\Python\\Python310\\lib\\site-packages\\bravado\\http_future.py\", line 420, in raise_on_expected\n",
      "    raise make_http_exception(\n",
      "bravado.exception.HTTPNotFound: 404 Not Found\n",
      "\n",
      "The above exception was the direct cause of the following exception:\n",
      "\n",
      "Traceback (most recent call last):\n",
      "  File \"C:\\Users\\George\\AppData\\Local\\Programs\\Python\\Python310\\lib\\threading.py\", line 1009, in _bootstrap_inner\n",
      "    self.run()\n",
      "  File \"C:\\Users\\George\\AppData\\Local\\Programs\\Python\\Python310\\lib\\site-packages\\neptune\\internal\\threading\\daemon.py\", line 94, in run\n",
      "    self.work()\n",
      "  File \"C:\\Users\\George\\AppData\\Local\\Programs\\Python\\Python310\\lib\\site-packages\\neptune\\internal\\threading\\daemon.py\", line 119, in wrapper\n",
      "    result = func(self_, *args, **kwargs)\n",
      "  File \"C:\\Users\\George\\AppData\\Local\\Programs\\Python\\Python310\\lib\\site-packages\\neptune\\internal\\utils\\ping_background_job.py\", line 72, in work\n",
      "    self._container.ping()\n",
      "  File \"C:\\Users\\George\\AppData\\Local\\Programs\\Python\\Python310\\lib\\site-packages\\neptune\\metadata_containers\\metadata_container.py\", line 398, in ping\n",
      "    self._backend.ping(self._id, self.container_type)\n",
      "  File \"C:\\Users\\George\\AppData\\Local\\Programs\\Python\\Python310\\lib\\site-packages\\neptune\\common\\backends\\utils.py\", line 76, in wrapper\n",
      "    return func(*args, **kwargs)\n",
      "  File \"C:\\Users\\George\\AppData\\Local\\Programs\\Python\\Python310\\lib\\site-packages\\neptune\\internal\\backends\\hosted_neptune_backend.py\", line 438, in ping\n",
      "    self.leaderboard_client.api.ping(\n",
      "  File \"C:\\Users\\George\\AppData\\Local\\Programs\\Python\\Python310\\lib\\site-packages\\neptune\\internal\\backends\\swagger_client_wrapper.py\", line 113, in __call__\n",
      "    self.handle_neptune_http_errors(e.response, exception=e)\n",
      "  File \"C:\\Users\\George\\AppData\\Local\\Programs\\Python\\Python310\\lib\\site-packages\\neptune\\internal\\backends\\swagger_client_wrapper.py\", line 102, in handle_neptune_http_errors\n",
      "    raise error_processor(body) from exception\n",
      "neptune.management.exceptions.ObjectNotFound: Object not found. (code: 22)\n"
     ]
    },
    {
     "name": "stdout",
     "output_type": "stream",
     "text": [
      "Unexpected error occurred in Neptune background thread: Killing Neptune ping thread. Your run's status will not be updated and the run will be shown as inactive.\n"
     ]
    },
    {
     "name": "stderr",
     "output_type": "stream",
     "text": [
      "Exception in thread NeptunePing:\n",
      "Traceback (most recent call last):\n",
      "  File \"C:\\Users\\George\\AppData\\Local\\Programs\\Python\\Python310\\lib\\site-packages\\neptune\\internal\\backends\\swagger_client_wrapper.py\", line 111, in __call__\n",
      "    return FinishedApiResponseFuture(future.response())  # wait synchronously\n",
      "  File \"C:\\Users\\George\\AppData\\Local\\Programs\\Python\\Python310\\lib\\site-packages\\bravado\\http_future.py\", line 200, in response\n",
      "    swagger_result = self._get_swagger_result(incoming_response)\n",
      "  File \"C:\\Users\\George\\AppData\\Local\\Programs\\Python\\Python310\\lib\\site-packages\\bravado\\http_future.py\", line 124, in wrapper\n",
      "    return func(self, *args, **kwargs)\n",
      "  File \"C:\\Users\\George\\AppData\\Local\\Programs\\Python\\Python310\\lib\\site-packages\\bravado\\http_future.py\", line 300, in _get_swagger_result\n",
      "    unmarshal_response(\n",
      "  File \"C:\\Users\\George\\AppData\\Local\\Programs\\Python\\Python310\\lib\\site-packages\\bravado\\http_future.py\", line 353, in unmarshal_response\n",
      "    raise_on_expected(incoming_response)\n",
      "  File \"C:\\Users\\George\\AppData\\Local\\Programs\\Python\\Python310\\lib\\site-packages\\bravado\\http_future.py\", line 420, in raise_on_expected\n",
      "    raise make_http_exception(\n",
      "bravado.exception.HTTPNotFound: 404 Not Found\n",
      "\n",
      "The above exception was the direct cause of the following exception:\n",
      "\n",
      "Traceback (most recent call last):\n",
      "  File \"C:\\Users\\George\\AppData\\Local\\Programs\\Python\\Python310\\lib\\threading.py\", line 1009, in _bootstrap_inner\n",
      "    self.run()\n",
      "  File \"C:\\Users\\George\\AppData\\Local\\Programs\\Python\\Python310\\lib\\site-packages\\neptune\\internal\\threading\\daemon.py\", line 94, in run\n",
      "    self.work()\n",
      "  File \"C:\\Users\\George\\AppData\\Local\\Programs\\Python\\Python310\\lib\\site-packages\\neptune\\internal\\threading\\daemon.py\", line 119, in wrapper\n",
      "    result = func(self_, *args, **kwargs)\n",
      "  File \"C:\\Users\\George\\AppData\\Local\\Programs\\Python\\Python310\\lib\\site-packages\\neptune\\internal\\utils\\ping_background_job.py\", line 72, in work\n",
      "    self._container.ping()\n",
      "  File \"C:\\Users\\George\\AppData\\Local\\Programs\\Python\\Python310\\lib\\site-packages\\neptune\\metadata_containers\\metadata_container.py\", line 398, in ping\n",
      "    self._backend.ping(self._id, self.container_type)\n",
      "  File \"C:\\Users\\George\\AppData\\Local\\Programs\\Python\\Python310\\lib\\site-packages\\neptune\\common\\backends\\utils.py\", line 76, in wrapper\n",
      "    return func(*args, **kwargs)\n",
      "  File \"C:\\Users\\George\\AppData\\Local\\Programs\\Python\\Python310\\lib\\site-packages\\neptune\\internal\\backends\\hosted_neptune_backend.py\", line 438, in ping\n",
      "    self.leaderboard_client.api.ping(\n",
      "  File \"C:\\Users\\George\\AppData\\Local\\Programs\\Python\\Python310\\lib\\site-packages\\neptune\\internal\\backends\\swagger_client_wrapper.py\", line 113, in __call__\n",
      "    self.handle_neptune_http_errors(e.response, exception=e)\n",
      "  File \"C:\\Users\\George\\AppData\\Local\\Programs\\Python\\Python310\\lib\\site-packages\\neptune\\internal\\backends\\swagger_client_wrapper.py\", line 102, in handle_neptune_http_errors\n",
      "    raise error_processor(body) from exception\n",
      "neptune.management.exceptions.ObjectNotFound: Object not found. (code: 22)\n"
     ]
    },
    {
     "name": "stdout",
     "output_type": "stream",
     "text": [
      "Unexpected error occurred in Neptune background thread: Killing Neptune ping thread. Your run's status will not be updated and the run will be shown as inactive.\n"
     ]
    },
    {
     "name": "stderr",
     "output_type": "stream",
     "text": [
      "Exception in thread NeptunePing:\n",
      "Traceback (most recent call last):\n",
      "  File \"C:\\Users\\George\\AppData\\Local\\Programs\\Python\\Python310\\lib\\site-packages\\neptune\\internal\\backends\\swagger_client_wrapper.py\", line 111, in __call__\n",
      "    return FinishedApiResponseFuture(future.response())  # wait synchronously\n",
      "  File \"C:\\Users\\George\\AppData\\Local\\Programs\\Python\\Python310\\lib\\site-packages\\bravado\\http_future.py\", line 200, in response\n",
      "    swagger_result = self._get_swagger_result(incoming_response)\n",
      "  File \"C:\\Users\\George\\AppData\\Local\\Programs\\Python\\Python310\\lib\\site-packages\\bravado\\http_future.py\", line 124, in wrapper\n",
      "    return func(self, *args, **kwargs)\n",
      "  File \"C:\\Users\\George\\AppData\\Local\\Programs\\Python\\Python310\\lib\\site-packages\\bravado\\http_future.py\", line 300, in _get_swagger_result\n",
      "    unmarshal_response(\n",
      "  File \"C:\\Users\\George\\AppData\\Local\\Programs\\Python\\Python310\\lib\\site-packages\\bravado\\http_future.py\", line 353, in unmarshal_response\n",
      "    raise_on_expected(incoming_response)\n",
      "  File \"C:\\Users\\George\\AppData\\Local\\Programs\\Python\\Python310\\lib\\site-packages\\bravado\\http_future.py\", line 420, in raise_on_expected\n",
      "    raise make_http_exception(\n",
      "bravado.exception.HTTPNotFound: 404 Not Found\n",
      "\n",
      "The above exception was the direct cause of the following exception:\n",
      "\n",
      "Traceback (most recent call last):\n",
      "  File \"C:\\Users\\George\\AppData\\Local\\Programs\\Python\\Python310\\lib\\threading.py\", line 1009, in _bootstrap_inner\n",
      "    self.run()\n",
      "  File \"C:\\Users\\George\\AppData\\Local\\Programs\\Python\\Python310\\lib\\site-packages\\neptune\\internal\\threading\\daemon.py\", line 94, in run\n",
      "    self.work()\n",
      "  File \"C:\\Users\\George\\AppData\\Local\\Programs\\Python\\Python310\\lib\\site-packages\\neptune\\internal\\threading\\daemon.py\", line 119, in wrapper\n",
      "    result = func(self_, *args, **kwargs)\n",
      "  File \"C:\\Users\\George\\AppData\\Local\\Programs\\Python\\Python310\\lib\\site-packages\\neptune\\internal\\utils\\ping_background_job.py\", line 72, in work\n",
      "    self._container.ping()\n",
      "  File \"C:\\Users\\George\\AppData\\Local\\Programs\\Python\\Python310\\lib\\site-packages\\neptune\\metadata_containers\\metadata_container.py\", line 398, in ping\n",
      "    self._backend.ping(self._id, self.container_type)\n",
      "  File \"C:\\Users\\George\\AppData\\Local\\Programs\\Python\\Python310\\lib\\site-packages\\neptune\\common\\backends\\utils.py\", line 76, in wrapper\n",
      "    return func(*args, **kwargs)\n",
      "  File \"C:\\Users\\George\\AppData\\Local\\Programs\\Python\\Python310\\lib\\site-packages\\neptune\\internal\\backends\\hosted_neptune_backend.py\", line 438, in ping\n",
      "    self.leaderboard_client.api.ping(\n",
      "  File \"C:\\Users\\George\\AppData\\Local\\Programs\\Python\\Python310\\lib\\site-packages\\neptune\\internal\\backends\\swagger_client_wrapper.py\", line 113, in __call__\n",
      "    self.handle_neptune_http_errors(e.response, exception=e)\n",
      "  File \"C:\\Users\\George\\AppData\\Local\\Programs\\Python\\Python310\\lib\\site-packages\\neptune\\internal\\backends\\swagger_client_wrapper.py\", line 102, in handle_neptune_http_errors\n",
      "    raise error_processor(body) from exception\n",
      "neptune.management.exceptions.ObjectNotFound: Object not found. (code: 22)\n"
     ]
    },
    {
     "name": "stdout",
     "output_type": "stream",
     "text": [
      "Unexpected error occurred in Neptune background thread: Killing Neptune ping thread. Your run's status will not be updated and the run will be shown as inactive.\n"
     ]
    },
    {
     "name": "stderr",
     "output_type": "stream",
     "text": [
      "Exception in thread NeptunePing:\n",
      "Traceback (most recent call last):\n",
      "  File \"C:\\Users\\George\\AppData\\Local\\Programs\\Python\\Python310\\lib\\site-packages\\neptune\\internal\\backends\\swagger_client_wrapper.py\", line 111, in __call__\n",
      "    return FinishedApiResponseFuture(future.response())  # wait synchronously\n",
      "  File \"C:\\Users\\George\\AppData\\Local\\Programs\\Python\\Python310\\lib\\site-packages\\bravado\\http_future.py\", line 200, in response\n",
      "    swagger_result = self._get_swagger_result(incoming_response)\n",
      "  File \"C:\\Users\\George\\AppData\\Local\\Programs\\Python\\Python310\\lib\\site-packages\\bravado\\http_future.py\", line 124, in wrapper\n",
      "    return func(self, *args, **kwargs)\n",
      "  File \"C:\\Users\\George\\AppData\\Local\\Programs\\Python\\Python310\\lib\\site-packages\\bravado\\http_future.py\", line 300, in _get_swagger_result\n",
      "    unmarshal_response(\n",
      "  File \"C:\\Users\\George\\AppData\\Local\\Programs\\Python\\Python310\\lib\\site-packages\\bravado\\http_future.py\", line 353, in unmarshal_response\n",
      "    raise_on_expected(incoming_response)\n",
      "  File \"C:\\Users\\George\\AppData\\Local\\Programs\\Python\\Python310\\lib\\site-packages\\bravado\\http_future.py\", line 420, in raise_on_expected\n",
      "    raise make_http_exception(\n",
      "bravado.exception.HTTPNotFound: 404 Not Found\n",
      "\n",
      "The above exception was the direct cause of the following exception:\n",
      "\n",
      "Traceback (most recent call last):\n",
      "  File \"C:\\Users\\George\\AppData\\Local\\Programs\\Python\\Python310\\lib\\threading.py\", line 1009, in _bootstrap_inner\n",
      "    self.run()\n",
      "  File \"C:\\Users\\George\\AppData\\Local\\Programs\\Python\\Python310\\lib\\site-packages\\neptune\\internal\\threading\\daemon.py\", line 94, in run\n",
      "    self.work()\n",
      "  File \"C:\\Users\\George\\AppData\\Local\\Programs\\Python\\Python310\\lib\\site-packages\\neptune\\internal\\threading\\daemon.py\", line 119, in wrapper\n",
      "    result = func(self_, *args, **kwargs)\n",
      "  File \"C:\\Users\\George\\AppData\\Local\\Programs\\Python\\Python310\\lib\\site-packages\\neptune\\internal\\utils\\ping_background_job.py\", line 72, in work\n",
      "    self._container.ping()\n",
      "  File \"C:\\Users\\George\\AppData\\Local\\Programs\\Python\\Python310\\lib\\site-packages\\neptune\\metadata_containers\\metadata_container.py\", line 398, in ping\n",
      "    self._backend.ping(self._id, self.container_type)\n",
      "  File \"C:\\Users\\George\\AppData\\Local\\Programs\\Python\\Python310\\lib\\site-packages\\neptune\\common\\backends\\utils.py\", line 76, in wrapper\n",
      "    return func(*args, **kwargs)\n",
      "  File \"C:\\Users\\George\\AppData\\Local\\Programs\\Python\\Python310\\lib\\site-packages\\neptune\\internal\\backends\\hosted_neptune_backend.py\", line 438, in ping\n",
      "    self.leaderboard_client.api.ping(\n",
      "  File \"C:\\Users\\George\\AppData\\Local\\Programs\\Python\\Python310\\lib\\site-packages\\neptune\\internal\\backends\\swagger_client_wrapper.py\", line 113, in __call__\n",
      "    self.handle_neptune_http_errors(e.response, exception=e)\n",
      "  File \"C:\\Users\\George\\AppData\\Local\\Programs\\Python\\Python310\\lib\\site-packages\\neptune\\internal\\backends\\swagger_client_wrapper.py\", line 102, in handle_neptune_http_errors\n",
      "    raise error_processor(body) from exception\n",
      "neptune.management.exceptions.ObjectNotFound: Object not found. (code: 22)\n"
     ]
    }
   ],
   "source": [
    "import csv\n",
    "node_names = PPI_graph.vs[\"name\"]\n",
    "csv_data = [[\"NodeName\"] + [f\"Feature_{i}\" for i in range(Z.shape[1])]]\n",
    "\n",
    "for name, embedding in zip(node_names, Z):\n",
    "    row = [name] + embedding.tolist()\n",
    "    csv_data.append(row)\n",
    "\n",
    "print(csv_data)\n",
    "\n",
    "csv_file_path = r\"C:\\Users\\George\\Desktop\\ISEF-2023\\Model\\test\\VGAE_PPI\\embed_38.csv\"\n",
    "\n",
    "# Write the CSV file\n",
    "with open(csv_file_path, \"w\", newline=\"\") as csvfile:\n",
    "    csvwriter = csv.writer(csvfile)\n",
    "    csvwriter.writerows(csv_data)\n",
    "\n",
    "print(f\"CSV file saved at: {csv_file_path}\")"
   ]
  }
 ],
 "metadata": {
  "kernelspec": {
   "display_name": "Python 3 (ipykernel)",
   "language": "python",
   "name": "python3"
  },
  "language_info": {
   "codemirror_mode": {
    "name": "ipython",
    "version": 3
   },
   "file_extension": ".py",
   "mimetype": "text/x-python",
   "name": "python",
   "nbconvert_exporter": "python",
   "pygments_lexer": "ipython3",
   "version": "3.10.4"
  }
 },
 "nbformat": 4,
 "nbformat_minor": 2
}
